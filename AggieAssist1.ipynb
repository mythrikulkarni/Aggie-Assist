{
  "nbformat": 4,
  "nbformat_minor": 0,
  "metadata": {
    "colab": {
      "provenance": [],
      "include_colab_link": true
    },
    "kernelspec": {
      "name": "python3",
      "display_name": "Python 3"
    },
    "language_info": {
      "name": "python"
    },
    "widgets": {
      "application/vnd.jupyter.widget-state+json": {
        "bbecd40608b545ea8cdfaf317ac5ce36": {
          "model_module": "@jupyter-widgets/controls",
          "model_name": "HBoxModel",
          "model_module_version": "1.5.0",
          "state": {
            "_dom_classes": [],
            "_model_module": "@jupyter-widgets/controls",
            "_model_module_version": "1.5.0",
            "_model_name": "HBoxModel",
            "_view_count": null,
            "_view_module": "@jupyter-widgets/controls",
            "_view_module_version": "1.5.0",
            "_view_name": "HBoxView",
            "box_style": "",
            "children": [
              "IPY_MODEL_fabcee80d6514d9e851c352e4a1ebe76",
              "IPY_MODEL_3de60f154cb3460585f093f234a43e78",
              "IPY_MODEL_2eedae7457624d8380bb04b0860f5c87"
            ],
            "layout": "IPY_MODEL_b8100add8ee2451586671aa492f05428"
          }
        },
        "fabcee80d6514d9e851c352e4a1ebe76": {
          "model_module": "@jupyter-widgets/controls",
          "model_name": "HTMLModel",
          "model_module_version": "1.5.0",
          "state": {
            "_dom_classes": [],
            "_model_module": "@jupyter-widgets/controls",
            "_model_module_version": "1.5.0",
            "_model_name": "HTMLModel",
            "_view_count": null,
            "_view_module": "@jupyter-widgets/controls",
            "_view_module_version": "1.5.0",
            "_view_name": "HTMLView",
            "description": "",
            "description_tooltip": null,
            "layout": "IPY_MODEL_9361c6e644154ac3a49bbbd3ab02f05c",
            "placeholder": "​",
            "style": "IPY_MODEL_40732985c7c74f39993c795d20540e82",
            "value": "Running Prediction: 100%"
          }
        },
        "3de60f154cb3460585f093f234a43e78": {
          "model_module": "@jupyter-widgets/controls",
          "model_name": "FloatProgressModel",
          "model_module_version": "1.5.0",
          "state": {
            "_dom_classes": [],
            "_model_module": "@jupyter-widgets/controls",
            "_model_module_version": "1.5.0",
            "_model_name": "FloatProgressModel",
            "_view_count": null,
            "_view_module": "@jupyter-widgets/controls",
            "_view_module_version": "1.5.0",
            "_view_name": "ProgressView",
            "bar_style": "success",
            "description": "",
            "description_tooltip": null,
            "layout": "IPY_MODEL_d52c922e3bd04a0088091ec30b65a589",
            "max": 1,
            "min": 0,
            "orientation": "horizontal",
            "style": "IPY_MODEL_d524872bb5ca439091f89b38e308d659",
            "value": 1
          }
        },
        "2eedae7457624d8380bb04b0860f5c87": {
          "model_module": "@jupyter-widgets/controls",
          "model_name": "HTMLModel",
          "model_module_version": "1.5.0",
          "state": {
            "_dom_classes": [],
            "_model_module": "@jupyter-widgets/controls",
            "_model_module_version": "1.5.0",
            "_model_name": "HTMLModel",
            "_view_count": null,
            "_view_module": "@jupyter-widgets/controls",
            "_view_module_version": "1.5.0",
            "_view_name": "HTMLView",
            "description": "",
            "description_tooltip": null,
            "layout": "IPY_MODEL_a21cebe6f74b4f009aa339d3d03886a3",
            "placeholder": "​",
            "style": "IPY_MODEL_b12497c4a0064c348ce277f2fe22ad14",
            "value": " 1/1 [00:05&lt;00:00,  5.58s/it]"
          }
        },
        "b8100add8ee2451586671aa492f05428": {
          "model_module": "@jupyter-widgets/base",
          "model_name": "LayoutModel",
          "model_module_version": "1.2.0",
          "state": {
            "_model_module": "@jupyter-widgets/base",
            "_model_module_version": "1.2.0",
            "_model_name": "LayoutModel",
            "_view_count": null,
            "_view_module": "@jupyter-widgets/base",
            "_view_module_version": "1.2.0",
            "_view_name": "LayoutView",
            "align_content": null,
            "align_items": null,
            "align_self": null,
            "border": null,
            "bottom": null,
            "display": null,
            "flex": null,
            "flex_flow": null,
            "grid_area": null,
            "grid_auto_columns": null,
            "grid_auto_flow": null,
            "grid_auto_rows": null,
            "grid_column": null,
            "grid_gap": null,
            "grid_row": null,
            "grid_template_areas": null,
            "grid_template_columns": null,
            "grid_template_rows": null,
            "height": null,
            "justify_content": null,
            "justify_items": null,
            "left": null,
            "margin": null,
            "max_height": null,
            "max_width": null,
            "min_height": null,
            "min_width": null,
            "object_fit": null,
            "object_position": null,
            "order": null,
            "overflow": null,
            "overflow_x": null,
            "overflow_y": null,
            "padding": null,
            "right": null,
            "top": null,
            "visibility": null,
            "width": null
          }
        },
        "9361c6e644154ac3a49bbbd3ab02f05c": {
          "model_module": "@jupyter-widgets/base",
          "model_name": "LayoutModel",
          "model_module_version": "1.2.0",
          "state": {
            "_model_module": "@jupyter-widgets/base",
            "_model_module_version": "1.2.0",
            "_model_name": "LayoutModel",
            "_view_count": null,
            "_view_module": "@jupyter-widgets/base",
            "_view_module_version": "1.2.0",
            "_view_name": "LayoutView",
            "align_content": null,
            "align_items": null,
            "align_self": null,
            "border": null,
            "bottom": null,
            "display": null,
            "flex": null,
            "flex_flow": null,
            "grid_area": null,
            "grid_auto_columns": null,
            "grid_auto_flow": null,
            "grid_auto_rows": null,
            "grid_column": null,
            "grid_gap": null,
            "grid_row": null,
            "grid_template_areas": null,
            "grid_template_columns": null,
            "grid_template_rows": null,
            "height": null,
            "justify_content": null,
            "justify_items": null,
            "left": null,
            "margin": null,
            "max_height": null,
            "max_width": null,
            "min_height": null,
            "min_width": null,
            "object_fit": null,
            "object_position": null,
            "order": null,
            "overflow": null,
            "overflow_x": null,
            "overflow_y": null,
            "padding": null,
            "right": null,
            "top": null,
            "visibility": null,
            "width": null
          }
        },
        "40732985c7c74f39993c795d20540e82": {
          "model_module": "@jupyter-widgets/controls",
          "model_name": "DescriptionStyleModel",
          "model_module_version": "1.5.0",
          "state": {
            "_model_module": "@jupyter-widgets/controls",
            "_model_module_version": "1.5.0",
            "_model_name": "DescriptionStyleModel",
            "_view_count": null,
            "_view_module": "@jupyter-widgets/base",
            "_view_module_version": "1.2.0",
            "_view_name": "StyleView",
            "description_width": ""
          }
        },
        "d52c922e3bd04a0088091ec30b65a589": {
          "model_module": "@jupyter-widgets/base",
          "model_name": "LayoutModel",
          "model_module_version": "1.2.0",
          "state": {
            "_model_module": "@jupyter-widgets/base",
            "_model_module_version": "1.2.0",
            "_model_name": "LayoutModel",
            "_view_count": null,
            "_view_module": "@jupyter-widgets/base",
            "_view_module_version": "1.2.0",
            "_view_name": "LayoutView",
            "align_content": null,
            "align_items": null,
            "align_self": null,
            "border": null,
            "bottom": null,
            "display": null,
            "flex": null,
            "flex_flow": null,
            "grid_area": null,
            "grid_auto_columns": null,
            "grid_auto_flow": null,
            "grid_auto_rows": null,
            "grid_column": null,
            "grid_gap": null,
            "grid_row": null,
            "grid_template_areas": null,
            "grid_template_columns": null,
            "grid_template_rows": null,
            "height": null,
            "justify_content": null,
            "justify_items": null,
            "left": null,
            "margin": null,
            "max_height": null,
            "max_width": null,
            "min_height": null,
            "min_width": null,
            "object_fit": null,
            "object_position": null,
            "order": null,
            "overflow": null,
            "overflow_x": null,
            "overflow_y": null,
            "padding": null,
            "right": null,
            "top": null,
            "visibility": null,
            "width": null
          }
        },
        "d524872bb5ca439091f89b38e308d659": {
          "model_module": "@jupyter-widgets/controls",
          "model_name": "ProgressStyleModel",
          "model_module_version": "1.5.0",
          "state": {
            "_model_module": "@jupyter-widgets/controls",
            "_model_module_version": "1.5.0",
            "_model_name": "ProgressStyleModel",
            "_view_count": null,
            "_view_module": "@jupyter-widgets/base",
            "_view_module_version": "1.2.0",
            "_view_name": "StyleView",
            "bar_color": null,
            "description_width": ""
          }
        },
        "a21cebe6f74b4f009aa339d3d03886a3": {
          "model_module": "@jupyter-widgets/base",
          "model_name": "LayoutModel",
          "model_module_version": "1.2.0",
          "state": {
            "_model_module": "@jupyter-widgets/base",
            "_model_module_version": "1.2.0",
            "_model_name": "LayoutModel",
            "_view_count": null,
            "_view_module": "@jupyter-widgets/base",
            "_view_module_version": "1.2.0",
            "_view_name": "LayoutView",
            "align_content": null,
            "align_items": null,
            "align_self": null,
            "border": null,
            "bottom": null,
            "display": null,
            "flex": null,
            "flex_flow": null,
            "grid_area": null,
            "grid_auto_columns": null,
            "grid_auto_flow": null,
            "grid_auto_rows": null,
            "grid_column": null,
            "grid_gap": null,
            "grid_row": null,
            "grid_template_areas": null,
            "grid_template_columns": null,
            "grid_template_rows": null,
            "height": null,
            "justify_content": null,
            "justify_items": null,
            "left": null,
            "margin": null,
            "max_height": null,
            "max_width": null,
            "min_height": null,
            "min_width": null,
            "object_fit": null,
            "object_position": null,
            "order": null,
            "overflow": null,
            "overflow_x": null,
            "overflow_y": null,
            "padding": null,
            "right": null,
            "top": null,
            "visibility": null,
            "width": null
          }
        },
        "b12497c4a0064c348ce277f2fe22ad14": {
          "model_module": "@jupyter-widgets/controls",
          "model_name": "DescriptionStyleModel",
          "model_module_version": "1.5.0",
          "state": {
            "_model_module": "@jupyter-widgets/controls",
            "_model_module_version": "1.5.0",
            "_model_name": "DescriptionStyleModel",
            "_view_count": null,
            "_view_module": "@jupyter-widgets/base",
            "_view_module_version": "1.2.0",
            "_view_name": "StyleView",
            "description_width": ""
          }
        }
      }
    }
  },
  "cells": [
    {
      "cell_type": "markdown",
      "metadata": {
        "id": "view-in-github",
        "colab_type": "text"
      },
      "source": [
        "<a href=\"https://colab.research.google.com/github/mythrikulkarni/Aggie-Assist/blob/main/AggieAssist1.ipynb\" target=\"_parent\"><img src=\"https://colab.research.google.com/assets/colab-badge.svg\" alt=\"Open In Colab\"/></a>"
      ]
    },
    {
      "cell_type": "code",
      "execution_count": 1,
      "metadata": {
        "id": "LzHt9Fs_9jck"
      },
      "outputs": [],
      "source": [
        "import tensorflow as tf"
      ]
    },
    {
      "cell_type": "code",
      "source": [
        "!pip install simpletransformers"
      ],
      "metadata": {
        "id": "9m1NKQkeBctu",
        "colab": {
          "base_uri": "https://localhost:8080/"
        },
        "outputId": "d874e394-7e89-42af-a05b-fd64749132a2"
      },
      "execution_count": 2,
      "outputs": [
        {
          "output_type": "stream",
          "name": "stdout",
          "text": [
            "Looking in indexes: https://pypi.org/simple, https://us-python.pkg.dev/colab-wheels/public/simple/\n",
            "Requirement already satisfied: simpletransformers in /usr/local/lib/python3.10/dist-packages (0.63.11)\n",
            "Requirement already satisfied: tensorboard in /usr/local/lib/python3.10/dist-packages (from simpletransformers) (2.12.2)\n",
            "Requirement already satisfied: wandb>=0.10.32 in /usr/local/lib/python3.10/dist-packages (from simpletransformers) (0.15.2)\n",
            "Requirement already satisfied: numpy in /usr/local/lib/python3.10/dist-packages (from simpletransformers) (1.22.4)\n",
            "Requirement already satisfied: scipy in /usr/local/lib/python3.10/dist-packages (from simpletransformers) (1.10.1)\n",
            "Requirement already satisfied: regex in /usr/local/lib/python3.10/dist-packages (from simpletransformers) (2022.10.31)\n",
            "Requirement already satisfied: seqeval in /usr/local/lib/python3.10/dist-packages (from simpletransformers) (1.2.2)\n",
            "Requirement already satisfied: pandas in /usr/local/lib/python3.10/dist-packages (from simpletransformers) (1.5.3)\n",
            "Requirement already satisfied: tokenizers in /usr/local/lib/python3.10/dist-packages (from simpletransformers) (0.13.3)\n",
            "Requirement already satisfied: datasets in /usr/local/lib/python3.10/dist-packages (from simpletransformers) (2.12.0)\n",
            "Requirement already satisfied: streamlit in /usr/local/lib/python3.10/dist-packages (from simpletransformers) (1.22.0)\n",
            "Requirement already satisfied: requests in /usr/local/lib/python3.10/dist-packages (from simpletransformers) (2.27.1)\n",
            "Requirement already satisfied: sentencepiece in /usr/local/lib/python3.10/dist-packages (from simpletransformers) (0.1.99)\n",
            "Requirement already satisfied: transformers>=4.6.0 in /usr/local/lib/python3.10/dist-packages (from simpletransformers) (4.28.1)\n",
            "Requirement already satisfied: tqdm>=4.47.0 in /usr/local/lib/python3.10/dist-packages (from simpletransformers) (4.65.0)\n",
            "Requirement already satisfied: scikit-learn in /usr/local/lib/python3.10/dist-packages (from simpletransformers) (1.2.2)\n",
            "Requirement already satisfied: filelock in /usr/local/lib/python3.10/dist-packages (from transformers>=4.6.0->simpletransformers) (3.12.0)\n",
            "Requirement already satisfied: huggingface-hub<1.0,>=0.11.0 in /usr/local/lib/python3.10/dist-packages (from transformers>=4.6.0->simpletransformers) (0.14.1)\n",
            "Requirement already satisfied: packaging>=20.0 in /usr/local/lib/python3.10/dist-packages (from transformers>=4.6.0->simpletransformers) (23.1)\n",
            "Requirement already satisfied: pyyaml>=5.1 in /usr/local/lib/python3.10/dist-packages (from transformers>=4.6.0->simpletransformers) (6.0)\n",
            "Requirement already satisfied: appdirs>=1.4.3 in /usr/local/lib/python3.10/dist-packages (from wandb>=0.10.32->simpletransformers) (1.4.4)\n",
            "Requirement already satisfied: pathtools in /usr/local/lib/python3.10/dist-packages (from wandb>=0.10.32->simpletransformers) (0.1.2)\n",
            "Requirement already satisfied: sentry-sdk>=1.0.0 in /usr/local/lib/python3.10/dist-packages (from wandb>=0.10.32->simpletransformers) (1.22.1)\n",
            "Requirement already satisfied: docker-pycreds>=0.4.0 in /usr/local/lib/python3.10/dist-packages (from wandb>=0.10.32->simpletransformers) (0.4.0)\n",
            "Requirement already satisfied: setuptools in /usr/local/lib/python3.10/dist-packages (from wandb>=0.10.32->simpletransformers) (67.7.2)\n",
            "Requirement already satisfied: Click!=8.0.0,>=7.0 in /usr/local/lib/python3.10/dist-packages (from wandb>=0.10.32->simpletransformers) (8.1.3)\n",
            "Requirement already satisfied: psutil>=5.0.0 in /usr/local/lib/python3.10/dist-packages (from wandb>=0.10.32->simpletransformers) (5.9.5)\n",
            "Requirement already satisfied: protobuf!=4.21.0,<5,>=3.19.0 in /usr/local/lib/python3.10/dist-packages (from wandb>=0.10.32->simpletransformers) (3.20.3)\n",
            "Requirement already satisfied: setproctitle in /usr/local/lib/python3.10/dist-packages (from wandb>=0.10.32->simpletransformers) (1.3.2)\n",
            "Requirement already satisfied: GitPython!=3.1.29,>=1.0.0 in /usr/local/lib/python3.10/dist-packages (from wandb>=0.10.32->simpletransformers) (3.1.31)\n",
            "Requirement already satisfied: urllib3<1.27,>=1.21.1 in /usr/local/lib/python3.10/dist-packages (from requests->simpletransformers) (1.26.15)\n",
            "Requirement already satisfied: certifi>=2017.4.17 in /usr/local/lib/python3.10/dist-packages (from requests->simpletransformers) (2022.12.7)\n",
            "Requirement already satisfied: idna<4,>=2.5 in /usr/local/lib/python3.10/dist-packages (from requests->simpletransformers) (3.4)\n",
            "Requirement already satisfied: charset-normalizer~=2.0.0 in /usr/local/lib/python3.10/dist-packages (from requests->simpletransformers) (2.0.12)\n",
            "Requirement already satisfied: aiohttp in /usr/local/lib/python3.10/dist-packages (from datasets->simpletransformers) (3.8.4)\n",
            "Requirement already satisfied: xxhash in /usr/local/lib/python3.10/dist-packages (from datasets->simpletransformers) (3.2.0)\n",
            "Requirement already satisfied: fsspec[http]>=2021.11.1 in /usr/local/lib/python3.10/dist-packages (from datasets->simpletransformers) (2023.4.0)\n",
            "Requirement already satisfied: pyarrow>=8.0.0 in /usr/local/lib/python3.10/dist-packages (from datasets->simpletransformers) (9.0.0)\n",
            "Requirement already satisfied: multiprocess in /usr/local/lib/python3.10/dist-packages (from datasets->simpletransformers) (0.70.14)\n",
            "Requirement already satisfied: responses<0.19 in /usr/local/lib/python3.10/dist-packages (from datasets->simpletransformers) (0.18.0)\n",
            "Requirement already satisfied: dill<0.3.7,>=0.3.0 in /usr/local/lib/python3.10/dist-packages (from datasets->simpletransformers) (0.3.6)\n",
            "Requirement already satisfied: python-dateutil>=2.8.1 in /usr/local/lib/python3.10/dist-packages (from pandas->simpletransformers) (2.8.2)\n",
            "Requirement already satisfied: pytz>=2020.1 in /usr/local/lib/python3.10/dist-packages (from pandas->simpletransformers) (2022.7.1)\n",
            "Requirement already satisfied: joblib>=1.1.1 in /usr/local/lib/python3.10/dist-packages (from scikit-learn->simpletransformers) (1.2.0)\n",
            "Requirement already satisfied: threadpoolctl>=2.0.0 in /usr/local/lib/python3.10/dist-packages (from scikit-learn->simpletransformers) (3.1.0)\n",
            "Requirement already satisfied: importlib-metadata>=1.4 in /usr/local/lib/python3.10/dist-packages (from streamlit->simpletransformers) (6.6.0)\n",
            "Requirement already satisfied: watchdog in /usr/local/lib/python3.10/dist-packages (from streamlit->simpletransformers) (3.0.0)\n",
            "Requirement already satisfied: altair<5,>=3.2.0 in /usr/local/lib/python3.10/dist-packages (from streamlit->simpletransformers) (4.2.2)\n",
            "Requirement already satisfied: tenacity<9,>=8.0.0 in /usr/local/lib/python3.10/dist-packages (from streamlit->simpletransformers) (8.2.2)\n",
            "Requirement already satisfied: toml in /usr/local/lib/python3.10/dist-packages (from streamlit->simpletransformers) (0.10.2)\n",
            "Requirement already satisfied: typing-extensions>=3.10.0.0 in /usr/local/lib/python3.10/dist-packages (from streamlit->simpletransformers) (4.5.0)\n",
            "Requirement already satisfied: cachetools>=4.0 in /usr/local/lib/python3.10/dist-packages (from streamlit->simpletransformers) (5.3.0)\n",
            "Requirement already satisfied: pillow>=6.2.0 in /usr/local/lib/python3.10/dist-packages (from streamlit->simpletransformers) (8.4.0)\n",
            "Requirement already satisfied: pydeck>=0.1.dev5 in /usr/local/lib/python3.10/dist-packages (from streamlit->simpletransformers) (0.8.1b0)\n",
            "Requirement already satisfied: tzlocal>=1.1 in /usr/local/lib/python3.10/dist-packages (from streamlit->simpletransformers) (4.3)\n",
            "Requirement already satisfied: blinker>=1.0.0 in /usr/local/lib/python3.10/dist-packages (from streamlit->simpletransformers) (1.6.2)\n",
            "Requirement already satisfied: rich>=10.11.0 in /usr/local/lib/python3.10/dist-packages (from streamlit->simpletransformers) (13.3.4)\n",
            "Requirement already satisfied: validators>=0.2 in /usr/local/lib/python3.10/dist-packages (from streamlit->simpletransformers) (0.20.0)\n",
            "Requirement already satisfied: tornado>=6.0.3 in /usr/local/lib/python3.10/dist-packages (from streamlit->simpletransformers) (6.2)\n",
            "Requirement already satisfied: pympler>=0.9 in /usr/local/lib/python3.10/dist-packages (from streamlit->simpletransformers) (1.0.1)\n",
            "Requirement already satisfied: werkzeug>=1.0.1 in /usr/local/lib/python3.10/dist-packages (from tensorboard->simpletransformers) (2.3.0)\n",
            "Requirement already satisfied: markdown>=2.6.8 in /usr/local/lib/python3.10/dist-packages (from tensorboard->simpletransformers) (3.4.3)\n",
            "Requirement already satisfied: absl-py>=0.4 in /usr/local/lib/python3.10/dist-packages (from tensorboard->simpletransformers) (1.4.0)\n",
            "Requirement already satisfied: tensorboard-data-server<0.8.0,>=0.7.0 in /usr/local/lib/python3.10/dist-packages (from tensorboard->simpletransformers) (0.7.0)\n",
            "Requirement already satisfied: tensorboard-plugin-wit>=1.6.0 in /usr/local/lib/python3.10/dist-packages (from tensorboard->simpletransformers) (1.8.1)\n",
            "Requirement already satisfied: google-auth-oauthlib<1.1,>=0.5 in /usr/local/lib/python3.10/dist-packages (from tensorboard->simpletransformers) (1.0.0)\n",
            "Requirement already satisfied: grpcio>=1.48.2 in /usr/local/lib/python3.10/dist-packages (from tensorboard->simpletransformers) (1.54.0)\n",
            "Requirement already satisfied: wheel>=0.26 in /usr/local/lib/python3.10/dist-packages (from tensorboard->simpletransformers) (0.40.0)\n",
            "Requirement already satisfied: google-auth<3,>=1.6.3 in /usr/local/lib/python3.10/dist-packages (from tensorboard->simpletransformers) (2.17.3)\n",
            "Requirement already satisfied: jsonschema>=3.0 in /usr/local/lib/python3.10/dist-packages (from altair<5,>=3.2.0->streamlit->simpletransformers) (4.3.3)\n",
            "Requirement already satisfied: jinja2 in /usr/local/lib/python3.10/dist-packages (from altair<5,>=3.2.0->streamlit->simpletransformers) (3.1.2)\n",
            "Requirement already satisfied: toolz in /usr/local/lib/python3.10/dist-packages (from altair<5,>=3.2.0->streamlit->simpletransformers) (0.12.0)\n",
            "Requirement already satisfied: entrypoints in /usr/local/lib/python3.10/dist-packages (from altair<5,>=3.2.0->streamlit->simpletransformers) (0.4)\n",
            "Requirement already satisfied: six>=1.4.0 in /usr/local/lib/python3.10/dist-packages (from docker-pycreds>=0.4.0->wandb>=0.10.32->simpletransformers) (1.16.0)\n",
            "Requirement already satisfied: attrs>=17.3.0 in /usr/local/lib/python3.10/dist-packages (from aiohttp->datasets->simpletransformers) (23.1.0)\n",
            "Requirement already satisfied: multidict<7.0,>=4.5 in /usr/local/lib/python3.10/dist-packages (from aiohttp->datasets->simpletransformers) (6.0.4)\n",
            "Requirement already satisfied: async-timeout<5.0,>=4.0.0a3 in /usr/local/lib/python3.10/dist-packages (from aiohttp->datasets->simpletransformers) (4.0.2)\n",
            "Requirement already satisfied: frozenlist>=1.1.1 in /usr/local/lib/python3.10/dist-packages (from aiohttp->datasets->simpletransformers) (1.3.3)\n",
            "Requirement already satisfied: yarl<2.0,>=1.0 in /usr/local/lib/python3.10/dist-packages (from aiohttp->datasets->simpletransformers) (1.9.2)\n",
            "Requirement already satisfied: aiosignal>=1.1.2 in /usr/local/lib/python3.10/dist-packages (from aiohttp->datasets->simpletransformers) (1.3.1)\n",
            "Requirement already satisfied: gitdb<5,>=4.0.1 in /usr/local/lib/python3.10/dist-packages (from GitPython!=3.1.29,>=1.0.0->wandb>=0.10.32->simpletransformers) (4.0.10)\n",
            "Requirement already satisfied: rsa<5,>=3.1.4 in /usr/local/lib/python3.10/dist-packages (from google-auth<3,>=1.6.3->tensorboard->simpletransformers) (4.9)\n",
            "Requirement already satisfied: pyasn1-modules>=0.2.1 in /usr/local/lib/python3.10/dist-packages (from google-auth<3,>=1.6.3->tensorboard->simpletransformers) (0.3.0)\n",
            "Requirement already satisfied: requests-oauthlib>=0.7.0 in /usr/local/lib/python3.10/dist-packages (from google-auth-oauthlib<1.1,>=0.5->tensorboard->simpletransformers) (1.3.1)\n",
            "Requirement already satisfied: zipp>=0.5 in /usr/local/lib/python3.10/dist-packages (from importlib-metadata>=1.4->streamlit->simpletransformers) (3.15.0)\n",
            "Requirement already satisfied: markdown-it-py<3.0.0,>=2.2.0 in /usr/local/lib/python3.10/dist-packages (from rich>=10.11.0->streamlit->simpletransformers) (2.2.0)\n",
            "Requirement already satisfied: pygments<3.0.0,>=2.13.0 in /usr/local/lib/python3.10/dist-packages (from rich>=10.11.0->streamlit->simpletransformers) (2.14.0)\n",
            "Requirement already satisfied: pytz-deprecation-shim in /usr/local/lib/python3.10/dist-packages (from tzlocal>=1.1->streamlit->simpletransformers) (0.1.0.post0)\n",
            "Requirement already satisfied: decorator>=3.4.0 in /usr/local/lib/python3.10/dist-packages (from validators>=0.2->streamlit->simpletransformers) (4.4.2)\n",
            "Requirement already satisfied: MarkupSafe>=2.1.1 in /usr/local/lib/python3.10/dist-packages (from werkzeug>=1.0.1->tensorboard->simpletransformers) (2.1.2)\n",
            "Requirement already satisfied: smmap<6,>=3.0.1 in /usr/local/lib/python3.10/dist-packages (from gitdb<5,>=4.0.1->GitPython!=3.1.29,>=1.0.0->wandb>=0.10.32->simpletransformers) (5.0.0)\n",
            "Requirement already satisfied: pyrsistent!=0.17.0,!=0.17.1,!=0.17.2,>=0.14.0 in /usr/local/lib/python3.10/dist-packages (from jsonschema>=3.0->altair<5,>=3.2.0->streamlit->simpletransformers) (0.19.3)\n",
            "Requirement already satisfied: mdurl~=0.1 in /usr/local/lib/python3.10/dist-packages (from markdown-it-py<3.0.0,>=2.2.0->rich>=10.11.0->streamlit->simpletransformers) (0.1.2)\n",
            "Requirement already satisfied: pyasn1<0.6.0,>=0.4.6 in /usr/local/lib/python3.10/dist-packages (from pyasn1-modules>=0.2.1->google-auth<3,>=1.6.3->tensorboard->simpletransformers) (0.5.0)\n",
            "Requirement already satisfied: oauthlib>=3.0.0 in /usr/local/lib/python3.10/dist-packages (from requests-oauthlib>=0.7.0->google-auth-oauthlib<1.1,>=0.5->tensorboard->simpletransformers) (3.2.2)\n",
            "Requirement already satisfied: tzdata in /usr/local/lib/python3.10/dist-packages (from pytz-deprecation-shim->tzlocal>=1.1->streamlit->simpletransformers) (2023.3)\n"
          ]
        }
      ]
    },
    {
      "cell_type": "code",
      "source": [
        "import json\n",
        "with open(r\"/train.json\", \"r\") as read_file:\n",
        "    train = json.load(read_file)"
      ],
      "metadata": {
        "id": "OUgUArz5sZr7"
      },
      "execution_count": 10,
      "outputs": []
    },
    {
      "cell_type": "code",
      "source": [
        "train"
      ],
      "metadata": {
        "colab": {
          "base_uri": "https://localhost:8080/"
        },
        "id": "QWD0qGEasz2k",
        "outputId": "002c4627-ac8a-4c58-ce67-9ba4bbd1e50d"
      },
      "execution_count": 11,
      "outputs": [
        {
          "output_type": "execute_result",
          "data": {
            "text/plain": [
              "[{'context': \"There are many types of mental health professionals. The variety of providers and their services may be confusing. Each have various levels of education, training, and may have different areas of expertise. Finding the professional who best fits your needs may require some research. To find resources on campus for mental health, here's a helpful resource: https://shcs.ucdavis.edu/services/counseling-services\",\n",
              "  'qas': [{'id': '00001',\n",
              "    'is_impossible': False,\n",
              "    'question': 'What is the difference between mental health professionals?',\n",
              "    'answers': [{'text': \"There are many types of mental health professionals. The variety of providers and their services may be confusing. Each have various levels of education, training, and may have different areas of expertise. Finding the professional who best fits your needs may require some research. To find resources on campus for mental health, here's a helpful resource: https://shcs.ucdavis.edu/services/counseling-services\",\n",
              "      'answer_start': 0}]}]},\n",
              " {'context': 'Feeling comfortable with the professional you are working with is critical to the success of your treatment. Finding the professional who best fits your needs may require some research. After an initial counseling appointment at UC Davis, you will be matched with an appropriate professional or healthcare provider for your needs and financial situation.',\n",
              "  'qas': [{'id': '00002',\n",
              "    'is_impossible': False,\n",
              "    'question': 'How can I find a mental health professional right for myself?',\n",
              "    'answers': [{'text': 'Feeling comfortable with the professional you are working with is critical to the success of your treatment. Finding the professional who best fits your needs may require some research. After an initial counseling appointment at UC Davis, you will be matched with an appropriate professional or healthcare provider for your needs and financial situation.',\n",
              "      'answer_start': 0}]}]},\n",
              " {'context': 'The best source of information regarding medications is the physician prescribing them. He or she should be able to answer questions such as:    1. What is the medication supposed to do? 2. When should it begin to take effect, and how will I know when it is effective? 3. How is the medication taken and for how long? What food, drinks, other medicines, and activities should be avoided while taking this medication? 4. What are the side effects and what should be done if they occur? 5. What do I do if a dose is missed? 6. Is there any written information available about this medication? 7. Are there other medications that might be appropriate? 8. If so, why do you prefer the one you have chosen? 9. How do you monitor medications and what symptoms indicate that they should be raised, lowered, or changed? 10. All medications should be taken as directed. Most medications for mental illnesses do not work when taken irregularly, and extra doses can cause severe, sometimes dangerous side effects. Many psychiatric medications begin to have a beneficial effect only after they have been taken for several weeks.',\n",
              "  'qas': [{'id': '00005',\n",
              "    'is_impossible': False,\n",
              "    'question': 'What should I know before starting a new medication?',\n",
              "    'answers': [{'text': 'The best source of information regarding medications is the physician prescribing them. He or she should be able to answer questions such as:    1. What is the medication supposed to do? 2. When should it begin to take effect, and how will I know when it is effective? 3. How is the medication taken and for how long? What food, drinks, other medicines, and activities should be avoided while taking this medication? 4. What are the side effects and what should be done if they occur? 5. What do I do if a dose is missed? 6. Is there any written information available about this medication? 7. Are there other medications that might be appropriate? 8. If so, why do you prefer the one you have chosen? 9. How do you monitor medications and what symptoms indicate that they should be raised, lowered, or changed? 10. All medications should be taken as directed. Most medications for mental illnesses do not work when taken irregularly, and extra doses can cause severe, sometimes dangerous side effects. Many psychiatric medications begin to have a beneficial effect only after they have been taken for several weeks.',\n",
              "      'answer_start': 0}]}]},\n",
              " {'context': 'It is not uncommon for people to stop taking their medication when they feel their symptoms are under control. Others may choose to stop taking their medication because of its side effects, without realizing that most side effects can be effectively managed. While it may seem reasonable to stop taking the medication, the problem is that most often, the symptoms will return. If you are taking medication, it is very important that you work together with your doctor before making decisions about any changes in your treatment.Another problem with stopping medication, particularly for stopping it abruptly, is that you may develop withdrawal symptoms that can be very unpleasant. If you and your doctor feel a trial off your medicine is a good idea, it is necessary to slowly decrease the dosage of medications so that these symptoms don’t occur.It is important that your doctor and pharmacist work together to make sure your medications are working safely and effectively. You should talk with them about how you are doing and if there are side effects that make you unwilling to continue treatment. They will work with you to develop strategies for minimizing these side effects, or will create a plan for switching to a different treatment that will be a better fit.',\n",
              "  'qas': [{'id': '00006',\n",
              "    'is_impossible': False,\n",
              "    'question': \"If I feel better after taking medication, does this mean I am 'cured' and can stop taking it?\",\n",
              "    'answers': [{'text': 'It is not uncommon for people to stop taking their medication when they feel their symptoms are under control. Others may choose to stop taking their medication because of its side effects, without realizing that most side effects can be effectively managed. While it may seem reasonable to stop taking the medication, the problem is that most often, the symptoms will return. If you are taking medication, it is very important that you work together with your doctor before making decisions about any changes in your treatment.Another problem with stopping medication, particularly for stopping it abruptly, is that you may develop withdrawal symptoms that can be very unpleasant. If you and your doctor feel a trial off your medicine is a good idea, it is necessary to slowly decrease the dosage of medications so that these symptoms don’t occur.It is important that your doctor and pharmacist work together to make sure your medications are working safely and effectively. You should talk with them about how you are doing and if there are side effects that make you unwilling to continue treatment. They will work with you to develop strategies for minimizing these side effects, or will create a plan for switching to a different treatment that will be a better fit.',\n",
              "      'answer_start': 0}]}]},\n",
              " {'context': \"UC Ship (University of California Student Health Insurance Plan) typically provides coverage for prescription medications. However, the specifics of the coverage may vary depending on the plan and the medication. It's important to check the plan details and formulary (list of covered medications) to see what medications are covered and what costs or restrictions may apply. Additionally, some medications may require prior authorization or step therapy, which means that your doctor may need to provide additional information to the insurance company before the medication will be covered. It's always a good idea to check with the insurance company or the pharmacy to confirm coverage and any associated costs.\",\n",
              "  'qas': [{'id': '00007',\n",
              "    'is_impossible': False,\n",
              "    'question': 'How can I get help paying for my medication?',\n",
              "    'answers': [{'text': \"UC Ship (University of California Student Health Insurance Plan) typically provides coverage for prescription medications. However, the specifics of the coverage may vary depending on the plan and the medication. It's important to check the plan details and formulary (list of covered medications) to see what medications are covered and what costs or restrictions may apply. Additionally, some medications may require prior authorization or step therapy, which means that your doctor may need to provide additional information to the insurance company before the medication will be covered. It's always a good idea to check with the insurance company or the pharmacy to confirm coverage and any associated costs.\",\n",
              "      'answer_start': 0}]}]},\n",
              " {'context': \"Student Health and Counseling Services (SHCS) offers both medical and mental health acute care services on the first floor of the Student Health & Wellness Center during normal hours of operation at 930 Orchard Rd, Davis, CA 95616 for Drop-in appointments or call (530) 752-2349. Costs for same-day appointment for mental health concerns are free.  For after-hours, call  (530) 752-2349 for Crisis Counseling Consultation. If this is an emergency, call 911 immediately. Here's more information on the Student Health and Counseling Services: https://shcs.ucdavis.edu/\",\n",
              "  'qas': [{'id': '00008',\n",
              "    'is_impossible': False,\n",
              "    'question': 'Where can I go to find therapy',\n",
              "    'answers': [{'text': \"Student Health and Counseling Services (SHCS) offers both medical and mental health acute care services on the first floor of the Student Health & Wellness Center during normal hours of operation at 930 Orchard Rd, Davis, CA 95616 for Drop-in appointments or call (530) 752-2349. Costs for same-day appointment for mental health concerns are free.  For after-hours, call  (530) 752-2349 for Crisis Counseling Consultation. If this is an emergency, call 911 immediately. Here's more information on the Student Health and Counseling Services: https://shcs.ucdavis.edu/\",\n",
              "      'answer_start': 0}]}]},\n",
              " {'context': 'You could visit https://shcs.ucdavis.edu/ for the many types of treatment and counseling UC Davis provides on campus to learn more about the types of mental health treatment.',\n",
              "  'qas': [{'id': '00009',\n",
              "    'is_impossible': False,\n",
              "    'question': 'Where can I learn about types of mental health treatment?',\n",
              "    'answers': [{'text': 'You could visit https://shcs.ucdavis.edu/ for the many types of treatment and counseling UC Davis provides on campus to learn more about the types of mental health treatment.',\n",
              "      'answer_start': 0}]}]},\n",
              " {'context': \"According to the UC SHIP website, 'The University of California Student Health Insurance Plan (UC SHIP) provides high-quality, affordable and convenient coverage that protects students from unexpected health care costs. The plan is built especially for students, and students are actively involved in its design.' UC students are mandated to be under a health insurance plan, so students at UC Davis are automatically enrolled into UC SHIP and must submit a waiver with proof of alternate health insurance for the insurance coverage and associated fees to be waived.\",\n",
              "  'qas': [{'id': '00010',\n",
              "    'is_impossible': False,\n",
              "    'question': 'What is UC SHIP?',\n",
              "    'answers': [{'text': \"According to the UC SHIP website, 'The University of California Student Health Insurance Plan (UC SHIP) provides high-quality, affordable and convenient coverage that protects students from unexpected health care costs. The plan is built especially for students, and students are actively involved in its design.' UC students are mandated to be under a health insurance plan, so students at UC Davis are automatically enrolled into UC SHIP and must submit a waiver with proof of alternate health insurance for the insurance coverage and associated fees to be waived.\",\n",
              "      'answer_start': 0}]}]},\n",
              " {'context': 'The most important thing is to talk to someone you trust. This might be a friend, colleague, family member, or GP. In addition to talking to someone, it may be useful to find out more information about what you are experiencing. These things may help to get some perspective on what you are experiencing, and be the start of getting help. Students can book individual brief counseling for free and meet with a counselor who can direct them to take next steps.',\n",
              "  'qas': [{'id': '00011',\n",
              "    'is_impossible': False,\n",
              "    'question': 'What do I do if I’m worried about my mental health?',\n",
              "    'answers': [{'text': 'The most important thing is to talk to someone you trust. This might be a friend, colleague, family member, or GP. In addition to talking to someone, it may be useful to find out more information about what you are experiencing. These things may help to get some perspective on what you are experiencing, and be the start of getting help. Students can book individual brief counseling for free and meet with a counselor who can direct them to take next steps.',\n",
              "      'answer_start': 0}]}]},\n",
              " {'context': 'If your beliefs , thoughts , feelings or behaviours have a significant impact on your ability to function in what might be considered a normal or ordinary way, it would be important to seek help. Some ways this might manifest for college students is developing an irregular sleep or eating schedule, having trouble concentrating or studying, experiencing a precipitous drop in energy levels or motivation, or feeling no desire to talk to or interact with family members and friends. ',\n",
              "  'qas': [{'id': '00012',\n",
              "    'is_impossible': False,\n",
              "    'question': 'How do I know if I’m unwell?',\n",
              "    'answers': [{'text': 'If your beliefs , thoughts , feelings or behaviours have a significant impact on your ability to function in what might be considered a normal or ordinary way, it would be important to seek help. Some ways this might manifest for college students is developing an irregular sleep or eating schedule, having trouble concentrating or studying, experiencing a precipitous drop in energy levels or motivation, or feeling no desire to talk to or interact with family members and friends. ',\n",
              "      'answer_start': 0}]}]},\n",
              " {'context': 'This may depend on your relationship with them. Gently encouraging someone to seek appropriate support would be helpful to start with. ',\n",
              "  'qas': [{'id': '00013',\n",
              "    'is_impossible': False,\n",
              "    'question': 'What should I do if I’m worried about a friend or relative?',\n",
              "    'answers': [{'text': 'This may depend on your relationship with them. Gently encouraging someone to seek appropriate support would be helpful to start with.',\n",
              "      'answer_start': 0}]}]},\n",
              " {'context': \"Some people may advise you on good evidence of what works with the best of intentions, but it's important to find out what works best for you.\",\n",
              "  'qas': [{'id': '00014',\n",
              "    'is_impossible': False,\n",
              "    'question': 'How do I deal with someone telling me what to do?',\n",
              "    'answers': [{'text': \"Some people may advise you on good evidence of what works with the best of intentions, but it's important to find out what works best for you.\",\n",
              "      'answer_start': 0}]}]},\n",
              " {'context': \"It may be tempting to try to block out the world altogether to avoid bad news, but it's important to keep yourself informed. It's important that you know what must be done and how you should do it. This is important for the health of your neighbours and your own mental health, and taking action can help counter difficult feelings like hopelessness and despair.\",\n",
              "  'qas': [{'id': '00015',\n",
              "    'is_impossible': False,\n",
              "    'question': 'Why do I need to keep informed?',\n",
              "    'answers': [{'text': \"It may be tempting to try to block out the world altogether to avoid bad news, but it's important to keep yourself informed. It's important that you know what must be done and how you should do it. This is important for the health of your neighbours and your own mental health, and taking action can help counter difficult feelings like hopelessness and despair.\",\n",
              "      'answer_start': 0}]}]}]"
            ]
          },
          "metadata": {},
          "execution_count": 11
        }
      ]
    },
    {
      "cell_type": "code",
      "source": [
        "import logging\n",
        "\n",
        "from simpletransformers.question_answering import QuestionAnsweringModel, QuestionAnsweringArgs"
      ],
      "metadata": {
        "id": "xj-LaMkGtC6U"
      },
      "execution_count": 12,
      "outputs": []
    },
    {
      "cell_type": "code",
      "source": [
        "model_type=\"bert\"\n",
        "model_name= \"bert-base-cased\"\n",
        "if model_type == \"bert\":\n",
        "    model_name = \"bert-base-cased\"\n",
        "\n",
        "elif model_type == \"roberta\":\n",
        "    model_name = \"roberta-base\"\n",
        "\n",
        "elif model_type == \"distilbert\":\n",
        "    model_name = \"distilbert-base-cased\"\n",
        "\n",
        "elif model_type == \"distilroberta\":\n",
        "    model_type = \"roberta\"\n",
        "    model_name = \"distilroberta-base\"\n",
        "\n",
        "elif model_type == \"electra-base\":\n",
        "    model_type = \"electra\"\n",
        "    model_name = \"google/electra-base-discriminator\"\n",
        "\n",
        "elif model_type == \"electra-small\":\n",
        "    model_type = \"electra\"\n",
        "    model_name = \"google/electra-small-discriminator\"\n",
        "\n",
        "elif model_type == \"xlnet\":\n",
        "    model_name = \"xlnet-base-cased\""
      ],
      "metadata": {
        "id": "_BtCJeS_tXrA"
      },
      "execution_count": 13,
      "outputs": []
    },
    {
      "cell_type": "code",
      "source": [
        "model_args = QuestionAnsweringArgs()\n",
        "model_args.train_batch_size = 15\n",
        "model_args.evaluate_during_training = True\n",
        "model_args.n_best_size=1\n",
        "model_args.num_train_epochs=100"
      ],
      "metadata": {
        "id": "OrRsN0iitYN_"
      },
      "execution_count": 22,
      "outputs": []
    },
    {
      "cell_type": "code",
      "source": [
        "train_args = {\n",
        "    \"reprocess_input_data\": True,\n",
        "    \"overwrite_output_dir\": True,\n",
        "    \"use_cached_eval_features\": True,\n",
        "    \"output_dir\": f\"outputs/{model_type}\",\n",
        "    \"best_model_dir\": f\"outputs/{model_type}/best_model\",\n",
        "    \"evaluate_during_training\": True,\n",
        "    \"max_seq_length\": 128,\n",
        "    \"num_train_epochs\": 100,\n",
        "    \"evaluate_during_training_steps\": 1000,\n",
        "    \"wandb_project\": \"Question Answer Application\",\n",
        "    \"wandb_kwargs\": {\"name\": model_name},\n",
        "    \"save_model_every_epoch\": False,\n",
        "    \"save_eval_checkpoints\": False,\n",
        "    \"n_best_size\":3, \n",
        "    # \"use_early_stopping\": True,\n",
        "    # \"early_stopping_metric\": \"mcc\",\n",
        "    # \"n_gpu\": 2,\n",
        "    # \"manual_seed\": 4,\n",
        "    # \"use_multiprocessing\": False,\n",
        "    \"train_batch_size\": 128,\n",
        "    \"eval_batch_size\": 64,\n",
        "    # \"config\": {\n",
        "    #     \"output_hidden_states\": True\n",
        "    # }\n",
        "}"
      ],
      "metadata": {
        "id": "S61rQAf7tizI"
      },
      "execution_count": 23,
      "outputs": []
    },
    {
      "cell_type": "code",
      "source": [
        "model = QuestionAnsweringModel(\n",
        "    model_type,model_name, args=train_args, use_cuda= False\n",
        ")"
      ],
      "metadata": {
        "colab": {
          "base_uri": "https://localhost:8080/"
        },
        "id": "NfNpCHQqtja7",
        "outputId": "98f67a7f-3c71-4e2d-9b80-b4010fa129be"
      },
      "execution_count": 24,
      "outputs": [
        {
          "output_type": "stream",
          "name": "stderr",
          "text": [
            "Some weights of the model checkpoint at bert-base-cased were not used when initializing BertForQuestionAnswering: ['cls.predictions.decoder.weight', 'cls.predictions.transform.dense.weight', 'cls.predictions.bias', 'cls.predictions.transform.LayerNorm.weight', 'cls.predictions.transform.dense.bias', 'cls.seq_relationship.bias', 'cls.seq_relationship.weight', 'cls.predictions.transform.LayerNorm.bias']\n",
            "- This IS expected if you are initializing BertForQuestionAnswering from the checkpoint of a model trained on another task or with another architecture (e.g. initializing a BertForSequenceClassification model from a BertForPreTraining model).\n",
            "- This IS NOT expected if you are initializing BertForQuestionAnswering from the checkpoint of a model that you expect to be exactly identical (initializing a BertForSequenceClassification model from a BertForSequenceClassification model).\n",
            "Some weights of BertForQuestionAnswering were not initialized from the model checkpoint at bert-base-cased and are newly initialized: ['qa_outputs.bias', 'qa_outputs.weight']\n",
            "You should probably TRAIN this model on a down-stream task to be able to use it for predictions and inference.\n"
          ]
        }
      ]
    },
    {
      "cell_type": "code",
      "source": [
        "!rm -rf outputs\n"
      ],
      "metadata": {
        "id": "K-X6-1N3tnoz"
      },
      "execution_count": 25,
      "outputs": []
    },
    {
      "cell_type": "code",
      "source": [
        "with open(r\"/predictions.json\", \"r\") as read_file:\n",
        "    to_predict = json.load(read_file)"
      ],
      "metadata": {
        "id": "cVZscsROuBQ1"
      },
      "execution_count": 29,
      "outputs": []
    },
    {
      "cell_type": "code",
      "source": [
        "answers, probabilities = model.predict(to_predict)\n",
        "\n",
        "print(answers)"
      ],
      "metadata": {
        "id": "yMn0r3SMuJV7",
        "outputId": "042eb68a-fca2-4b98-96a6-e9a0b13db4f3",
        "colab": {
          "base_uri": "https://localhost:8080/",
          "height": 123,
          "referenced_widgets": [
            "bbecd40608b545ea8cdfaf317ac5ce36",
            "fabcee80d6514d9e851c352e4a1ebe76",
            "3de60f154cb3460585f093f234a43e78",
            "2eedae7457624d8380bb04b0860f5c87",
            "b8100add8ee2451586671aa492f05428",
            "9361c6e644154ac3a49bbbd3ab02f05c",
            "40732985c7c74f39993c795d20540e82",
            "d52c922e3bd04a0088091ec30b65a589",
            "d524872bb5ca439091f89b38e308d659",
            "a21cebe6f74b4f009aa339d3d03886a3",
            "b12497c4a0064c348ce277f2fe22ad14"
          ]
        }
      },
      "execution_count": 30,
      "outputs": [
        {
          "output_type": "stream",
          "name": "stderr",
          "text": [
            "convert squad examples to features: 100%|██████████| 15/15 [00:00<00:00, 167.66it/s]\n",
            "add example index and unique id: 100%|██████████| 15/15 [00:00<00:00, 81920.00it/s]\n"
          ]
        },
        {
          "output_type": "display_data",
          "data": {
            "text/plain": [
              "Running Prediction:   0%|          | 0/1 [00:00<?, ?it/s]"
            ],
            "application/vnd.jupyter.widget-view+json": {
              "version_major": 2,
              "version_minor": 0,
              "model_id": "bbecd40608b545ea8cdfaf317ac5ce36"
            }
          },
          "metadata": {}
        },
        {
          "output_type": "stream",
          "name": "stdout",
          "text": [
            "[{'id': '00016', 'answer': [\"Anyone can post anything online. It's up to the readers to think critically about information to decide if it seems helpful, truthful, or safe.\"]}, {'id': '00017', 'answer': ['anxiety, boosting motivation, and improving decision-making by giving you a clear roadmap to follow towards achieving your goals.', 'you a clear roadmap to follow towards achieving your goals.', 'your mental health by reducing anxiety, boosting motivation, and improving decision-making by giving you a clear roadmap to follow towards achieving your goals.']}, {'id': '00018', 'answer': ['empty']}, {'id': '00019', 'answer': ['empty']}, {'id': '00020', 'answer': ['empty']}, {'id': '00021', 'answer': ['their family members and friends. Some support groups are peer-led, while others may be led by a mental health professional.']}, {'id': '00022', 'answer': ['/emergency/patients/index.html), which is located at 2315 Stockton Blvd, Sacramento, CA 95817. You can also call 911 for emergency services.', 'https://health.ucdavis.edu/emergency/patients/index.html), which is located at 2315 Stockton Blvd, Sacramento, CA 95817. You can also call 911 for emergency services.', '/patients/index.html), which is located at 2315 Stockton Blvd, Sacramento, CA 95817. You can also call 911 for emergency services.']}, {'id': '00023', 'answer': ['empty']}, {'id': '00024', 'answer': ['they have not experienced improvement despite having tried a variety of medications and treatments. Research studies (also known as clinical trials) may involve the use of new medications or new treatment approaches whose safety and effectiveness is being tested.']}, {'id': '00025', 'answer': ['empty']}, {'id': '00026', 'answer': ['our beliefs, thoughts, feelings and behaviours.', 'beliefs, thoughts, feelings and behaviours.']}, {'id': '00027', 'answer': ['empty']}, {'id': '00028', 'answer': ['We can all suffer from mental health challenges, but developing our wellbeing, resilience, and seeking help early can help prevent challenges becoming serious.']}, {'id': '00029', 'answer': ['often more realistic and helpful to find out what helps with the issues you face. Talking, counselling, medication, friendships, exercise, good sleep and nutrition, and meaningful occupation can all help.', 'you face. Talking, counselling, medication, friendships, exercise, good sleep and nutrition, and meaningful occupation can all help.']}, {'id': '00030', 'answer': ['psychological, biological, and social, issues, as well as life events.', 'social, issues, as well as life events.', 'biological, and social, issues, as well as life events.']}]\n"
          ]
        }
      ]
    }
  ]
}